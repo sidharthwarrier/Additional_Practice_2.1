{
 "cells": [
  {
   "cell_type": "markdown",
   "metadata": {},
   "source": [
    "<p> 1.The function echo_name takes 2 parameters: a string value, name1 and\n",
    "an integer value, echo_int. It returns a string that is a concatenation of\n",
    "echo_int copies of name1.</p>\n",
    "<br>Your task is to convert this simple function into a lambda function.\n",
    "Instructions:\n",
    "Define the lambda function echo_name using the variables name1 and \n",
    "echo_int. Replicate what the original function definition for echo_name does above</br>\n",
    "<br>Call echo_name () with the string argument acadgild and the value 5,\n",
    "in that order. Assign the call to result<br>\n",
    "<br>Expected Output</br>\n",
    "<br>acadgildacadgildacadgildacadgildacadgild</br>"
   ]
  },
  {
   "cell_type": "markdown",
   "metadata": {},
   "source": []
  },
  {
   "cell_type": "code",
   "execution_count": 7,
   "metadata": {},
   "outputs": [
    {
     "name": "stdout",
     "output_type": "stream",
     "text": [
      "acadgildacadgildacadgildacadgildacadgild\n"
     ]
    }
   ],
   "source": [
    "# Define a lambda function: echo_name\n",
    "echo_name = (lambda name1,echo_int : name1 * echo_int )\n",
    "# Call echo_name with parameters (\"acadgild\",5)\n",
    "result = echo_name (\"acadgild\",5)\n",
    "# Print result\n",
    "print(result)"
   ]
  },
  {
   "cell_type": "markdown",
   "metadata": {},
   "source": [
    "<p>2) Convert temperature in Celsius to Fahrenheit using map() and lambda\n",
    "functions</p>\n",
    "<br> Sample input</br>\n",
    "<br> Celsius = [49.2, 26.5, 47.3, 47.8]</br>\n",
    "<br> Expected Output</br>\n",
    "<br> [120.56, 79.7, 117.14, 118.03999999999999]</br>"
   ]
  },
  {
   "cell_type": "code",
   "execution_count": 1,
   "metadata": {},
   "outputs": [
    {
     "name": "stdout",
     "output_type": "stream",
     "text": [
      "Enter the values for list or stop to exit: 49.2\n",
      "Enter the values for list or stop to exit: 26.5\n",
      "Enter the values for list or stop to exit: 47.3\n",
      "Enter the values for list or stop to exit: 47.8\n",
      "Enter the values for list or stop to exit: stop\n",
      "output is [120.56, 79.7, 117.14, 118.03999999999999]\n"
     ]
    }
   ],
   "source": [
    "celsius=[]\n",
    "#Ask for user input\n",
    "while True:\n",
    "    input_celsius = input(\"Enter the values for list or stop to exit: \" )\n",
    "    if (input_celsius == 'STOP' or input_celsius =='stop'):\n",
    "        break\n",
    "    celsius.append(float(input_celsius))\n",
    "#Calculate and print output    \n",
    "output_fahre = list(map(lambda x:(1.8*x) + 32,celsius))\n",
    "print(\"output is {}\".format(output_fahre))"
   ]
  },
  {
   "cell_type": "markdown",
   "metadata": {},
   "source": [
    "<p>3) The function filter(function, list) filters out all the elements of a list, for\n",
    "which the function function returns True.\n",
    " The function filter(f,l) needs a function f as its first argument. f re\n",
    "turns a Boolean value, i.e. either True or False. This function will be\n",
    "applied to every element of the list l. Only if f returns True will the\n",
    "element of the list be included in the result list</p>\n",
    "<p> Q. print the letters that are vowels using filter and lambda functions</p>\n",
    "<br> sample_string = \"Welcome to AcadGild\"</br>\n",
    "<br> Expected Output</br>\n",
    " <br>['e', 'o', 'e', 'o', 'A', 'a', 'i']</br>"
   ]
  },
  {
   "cell_type": "code",
   "execution_count": 3,
   "metadata": {},
   "outputs": [
    {
     "name": "stdout",
     "output_type": "stream",
     "text": [
      "Input the string :Welcome to AcadGild\n",
      "output is ['e', 'o', 'e', 'o', 'A', 'a', 'i']\n"
     ]
    }
   ],
   "source": [
    "#take input from user\n",
    "input_string=input(\"Input the string :\")\n",
    "#Get vowels\n",
    "output_list=list(filter(lambda x:x in ['a','e','i','o','u','A','E','I','O','U'],input_string))\n",
    "#Print output\n",
    "print(\"output is {}\".format(output_list))"
   ]
  },
  {
   "cell_type": "markdown",
   "metadata": {},
   "source": [
    "<br>4) Use generator expression to print out only alphabets from the following\n",
    "string</br>\n",
    " <br>string = \"123@Welc34ometo12@ac#adGild\"</br>\n"
   ]
  },
  {
   "cell_type": "code",
   "execution_count": 13,
   "metadata": {},
   "outputs": [
    {
     "name": "stdout",
     "output_type": "stream",
     "text": [
      "Enter the string :123@Welc34ometo12@ac#adGild\n",
      "Output is ['W', 'e', 'l', 'c', 'o', 'm', 'e', 't', 'o', 'a', 'c', 'a', 'd', 'G', 'i', 'l', 'd']\n"
     ]
    }
   ],
   "source": [
    "#Get input string\n",
    "inp_string=input(\"Enter the string :\")\n",
    "#Chech for alphabets\n",
    "output=list(x for x in inp_string if  x.isalpha())\n",
    "#print output list\n",
    "print(\"Output is {}\".format(output))"
   ]
  },
  {
   "cell_type": "markdown",
   "metadata": {},
   "source": [
    "<br>5) Implement a function longestWord() that takes a list of words and returns\n",
    "the longest one.</br>\n",
    "<br> Sample Word List</br>\n",
    " <br>word= [\"January\",\"Feburary\",\"March\",\"April\",\"May\",\"June\",\"July\"]</br>\n",
    "<br> Expected Output</br>\n",
    "<br> ['Feburary']</br>"
   ]
  },
  {
   "cell_type": "code",
   "execution_count": 28,
   "metadata": {},
   "outputs": [
    {
     "name": "stdout",
     "output_type": "stream",
     "text": [
      "<class 'list'>\n",
      "Longest word is : Feburary \n"
     ]
    }
   ],
   "source": [
    "#Define functin to find the longest word\n",
    "def longestWord(inplist):\n",
    "    lword=max(inplist, key=lambda s: (len(s), s))\n",
    "    #return longestword\n",
    "    return lword\n",
    "    \n",
    "#initialise list\n",
    "\n",
    "input_value = [\"January\",\"Feburary\",\"March\",\"April\",\"May\",\"June\",\"July\"] \n",
    "\n",
    "print(type(input_value))\n",
    "\n",
    "    \n",
    "#call longestWord function\n",
    "final_result=longestWord(input_value)\n",
    "#print output\n",
    "print(\"Longest word is : {} \".format(final_result))"
   ]
  },
  {
   "cell_type": "code",
   "execution_count": null,
   "metadata": {},
   "outputs": [],
   "source": []
  }
 ],
 "metadata": {
  "kernelspec": {
   "display_name": "Python 3",
   "language": "python",
   "name": "python3"
  }
 },
 "nbformat": 4,
 "nbformat_minor": 2
}
